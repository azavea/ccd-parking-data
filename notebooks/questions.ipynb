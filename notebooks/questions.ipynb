{
 "cells": [
  {
   "cell_type": "markdown",
   "metadata": {},
   "source": [
    "# Questions"
   ]
  },
  {
   "cell_type": "markdown",
   "metadata": {},
   "source": [
    "- Where do the numbers start for days in `pvr['Day_{from|to}_{1|2}']`?\n",
    "- What's the story witht the values for `PermitZone1`, `PermitZone2`, and `PermitException` in `pvr`, how do I go from that to **Permit Zone** in the output dataset?\n",
    "- What do the time values of `9910`, `9911` and `102` mean?\n",
    "- Let's talk a little bit about `reg_is` and `reg_is_not` how do you distibguish these two?\n"
   ]
  }
 ],
 "metadata": {
  "kernelspec": {
   "display_name": "Python 3",
   "language": "python",
   "name": "python3"
  },
  "language_info": {
   "codemirror_mode": {
    "name": "ipython",
    "version": 3
   },
   "file_extension": ".py",
   "mimetype": "text/x-python",
   "name": "python",
   "nbconvert_exporter": "python",
   "pygments_lexer": "ipython3",
   "version": "3.6.7"
  }
 },
 "nbformat": 4,
 "nbformat_minor": 2
}
