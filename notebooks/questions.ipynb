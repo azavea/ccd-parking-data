{
 "cells": [
  {
   "cell_type": "markdown",
   "metadata": {},
   "source": [
    "# Questions"
   ]
  },
  {
   "cell_type": "markdown",
   "metadata": {},
   "source": [
    "- I just created the `paid` column using the `Metering` column in `pz`. \n",
    "    - There are four unique values in this column: 'Kiosk', 'Meters', 'No Meters' and None. I mapped 'Kiosk' and 'Meters' to `paid=Yes` and 'No Meters' nd None to `paid=No`. Is this right?\n",
    "- What is the deal with the proposed `permit_zone` field?\n",
    "    - In the spreadsheet it is a number\n",
    "    - There are two 'PermitZone' columns in `pz`\n",
    "    - In `PermitZone1` there are 118 non-null values (5 different permit zones)\n",
    "    - In `PermitZone2` there is only one non-null value (zone 4 in a row that doesn't have `PermitZone1` specified\n",
    "    - `PermitException` has no null values. It has 129 'Yes' values and 3220 'No' values\n",
    "    - Most of the columns that have a 'Yes' value for `PermitException` have a value for `PermitZone1`\n",
    "- Where do I get `contractor placard` from?\n",
    "    - In the notes section of the regulations dataset, only two notes contain the word 'placard' and none contain the word 'contractor'\n",
    "    - There is one regulation that mentions 'contractor placard': 'Contractor Placard Not Valid' (this reg occurs 384)\n",
    "    - I set the value of all hours overlapping with this regulation to 'Not Valid'\n",
    "- How should I create the `Time Limit` column?\n",
    "    - Time limits are tied to regulations so there could be more than one time limit per segment. \n",
    "\n",
    "- Where do the numbers start for days in `pvr['Day_{from|to}_{1|2}']`?\n",
    "    - It seems like it goes from Monday (1) to Sunday (7)\n",
    "- What's the story witht the values for `PermitZone1`, `PermitZone2`, and `PermitException` in `pvr`, how do I go from that to **Permit Zone** in the output dataset?\n",
    "- What do the time values of `9910`, `9911` and `102` mean?\n",
    "    - It seems as if `9911` is 'all time'\n",
    "    - It seems like `9910` is 'school hours' (occurs for one regulation) and the day value of '888' is school days (occurs for two different regulations)\n",
    "- What do the day values of `999` and `888` mean?\n",
    "    - `888` seems like it is school days\n",
    "    - not sure what `999` is\n",
    "- Let's talk a little bit about `reg_is` and `reg_is_not` how do you distinguish these two?\n",
    "    - basically I just split the regulations into two different categories based on intuition\n",
    "- What does the note `tpp` mean? it occurs 62 times, far more than any other note\n",
    "- What does the note `In This Street` mean? it occurs 12 times\n",
    "- What's the story with 'missing values'?\n"
   ]
  },
  {
   "cell_type": "code",
   "execution_count": null,
   "metadata": {},
   "outputs": [],
   "source": []
  }
 ],
 "metadata": {
  "kernelspec": {
   "display_name": "Python 3",
   "language": "python",
   "name": "python3"
  },
  "language_info": {
   "codemirror_mode": {
    "name": "ipython",
    "version": 3
   },
   "file_extension": ".py",
   "mimetype": "text/x-python",
   "name": "python",
   "nbconvert_exporter": "python",
   "pygments_lexer": "ipython3",
   "version": "3.6.7"
  }
 },
 "nbformat": 4,
 "nbformat_minor": 2
}
