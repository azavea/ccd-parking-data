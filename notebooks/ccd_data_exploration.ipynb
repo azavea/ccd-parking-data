{
 "cells": [
  {
   "cell_type": "markdown",
   "metadata": {},
   "source": [
    "# CCD Parking Data Exploration"
   ]
  },
  {
   "cell_type": "code",
   "execution_count": 1,
   "metadata": {},
   "outputs": [],
   "source": [
    "import os\n",
    "import sys\n",
    "sys.path.append('/home/simon/files/client/ccd/ccd-data-cleaning/')\n",
    "\n",
    "import pandas as pd\n",
    "import numpy as np\n",
    "\n",
    "%load_ext autoreload\n",
    "%autoreload\n",
    "%matplotlib inline"
   ]
  },
  {
   "cell_type": "code",
   "execution_count": 2,
   "metadata": {},
   "outputs": [],
   "source": [
    "from ccd.utils import read_layers_from_gdb, show_image, series_profile"
   ]
  },
  {
   "cell_type": "markdown",
   "metadata": {},
   "source": [
    "set the working directory"
   ]
  },
  {
   "cell_type": "code",
   "execution_count": 3,
   "metadata": {},
   "outputs": [],
   "source": [
    "os.chdir('/home/simon/files/client/ccd/ccd-data-cleaning/')"
   ]
  },
  {
   "cell_type": "code",
   "execution_count": 4,
   "metadata": {},
   "outputs": [],
   "source": [
    "pz_gdb = 'data/raw/ParkingZones.gdb'"
   ]
  },
  {
   "cell_type": "code",
   "execution_count": 5,
   "metadata": {},
   "outputs": [],
   "source": [
    "layers = read_layers_from_gdb(pz_gdb)"
   ]
  },
  {
   "cell_type": "code",
   "execution_count": 6,
   "metadata": {},
   "outputs": [],
   "source": [
    "pz = layers['Parking_Zones']\n",
    "pzr = layers['Parking_Zone_Regulations']\n",
    "pza = layers['Parking_Zones__ATTACH']"
   ]
  },
  {
   "cell_type": "markdown",
   "metadata": {},
   "source": [
    "### examine results"
   ]
  },
  {
   "cell_type": "code",
   "execution_count": 7,
   "metadata": {},
   "outputs": [],
   "source": [
    "# res_test = pd.read_csv('data/output/output-test.csv')"
   ]
  },
  {
   "cell_type": "code",
   "execution_count": 7,
   "metadata": {},
   "outputs": [
    {
     "name": "stderr",
     "output_type": "stream",
     "text": [
      "/home/simon/.local/lib/python3.6/site-packages/IPython/core/interactiveshell.py:3049: DtypeWarning: Columns (2) have mixed types. Specify dtype option on import or set low_memory=False.\n",
      "  interactivity=interactivity, compiler=compiler, result=result)\n"
     ]
    }
   ],
   "source": [
    "res = pd.read_csv('data/output/output-all.csv')"
   ]
  },
  {
   "cell_type": "code",
   "execution_count": 10,
   "metadata": {},
   "outputs": [
    {
     "data": {
      "text/plain": [
       "No     557073\n",
       "Yes      5559\n",
       "Name: check, dtype: int64"
      ]
     },
     "execution_count": 10,
     "metadata": {},
     "output_type": "execute_result"
    }
   ],
   "source": [
    "res['check'].value_counts()"
   ]
  },
  {
   "cell_type": "code",
   "execution_count": 13,
   "metadata": {},
   "outputs": [
    {
     "data": {
      "text/plain": [
       "103"
      ]
     },
     "execution_count": 13,
     "metadata": {},
     "output_type": "execute_result"
    }
   ],
   "source": [
    "res[res['check'] == 'Yes']['id'].nunique()"
   ]
  },
  {
   "cell_type": "code",
   "execution_count": 14,
   "metadata": {},
   "outputs": [
    {
     "data": {
      "text/html": [
       "<div>\n",
       "<style scoped>\n",
       "    .dataframe tbody tr th:only-of-type {\n",
       "        vertical-align: middle;\n",
       "    }\n",
       "\n",
       "    .dataframe tbody tr th {\n",
       "        vertical-align: top;\n",
       "    }\n",
       "\n",
       "    .dataframe thead th {\n",
       "        text-align: right;\n",
       "    }\n",
       "</style>\n",
       "<table border=\"1\" class=\"dataframe\">\n",
       "  <thead>\n",
       "    <tr style=\"text-align: right;\">\n",
       "      <th></th>\n",
       "      <th>id</th>\n",
       "      <th>length</th>\n",
       "      <th>block</th>\n",
       "      <th>street</th>\n",
       "      <th>day</th>\n",
       "      <th>hour</th>\n",
       "      <th>reg_is</th>\n",
       "      <th>reg_is_not</th>\n",
       "      <th>time_limit</th>\n",
       "      <th>paid</th>\n",
       "      <th>tow_zone</th>\n",
       "      <th>contractor_placard</th>\n",
       "      <th>permit_zone</th>\n",
       "      <th>snow_emergency_zone</th>\n",
       "      <th>check</th>\n",
       "    </tr>\n",
       "  </thead>\n",
       "  <tbody>\n",
       "    <tr>\n",
       "      <th>0</th>\n",
       "      <td>{DFA3C5DA-F650-4CDE-99ED-6A947933418B}</td>\n",
       "      <td>402.2</td>\n",
       "      <td>600</td>\n",
       "      <td>CHESTNUT ST</td>\n",
       "      <td>Mo</td>\n",
       "      <td>0</td>\n",
       "      <td>No Stopping</td>\n",
       "      <td>None</td>\n",
       "      <td>None</td>\n",
       "      <td>No</td>\n",
       "      <td>Yes</td>\n",
       "      <td>Valid</td>\n",
       "      <td>None</td>\n",
       "      <td>No</td>\n",
       "      <td>No</td>\n",
       "    </tr>\n",
       "    <tr>\n",
       "      <th>1</th>\n",
       "      <td>{DFA3C5DA-F650-4CDE-99ED-6A947933418B}</td>\n",
       "      <td>402.2</td>\n",
       "      <td>600</td>\n",
       "      <td>CHESTNUT ST</td>\n",
       "      <td>Mo</td>\n",
       "      <td>1</td>\n",
       "      <td>No Stopping</td>\n",
       "      <td>None</td>\n",
       "      <td>None</td>\n",
       "      <td>No</td>\n",
       "      <td>Yes</td>\n",
       "      <td>Valid</td>\n",
       "      <td>None</td>\n",
       "      <td>No</td>\n",
       "      <td>No</td>\n",
       "    </tr>\n",
       "    <tr>\n",
       "      <th>2</th>\n",
       "      <td>{DFA3C5DA-F650-4CDE-99ED-6A947933418B}</td>\n",
       "      <td>402.2</td>\n",
       "      <td>600</td>\n",
       "      <td>CHESTNUT ST</td>\n",
       "      <td>Mo</td>\n",
       "      <td>2</td>\n",
       "      <td>No Stopping</td>\n",
       "      <td>None</td>\n",
       "      <td>None</td>\n",
       "      <td>No</td>\n",
       "      <td>Yes</td>\n",
       "      <td>Valid</td>\n",
       "      <td>None</td>\n",
       "      <td>No</td>\n",
       "      <td>No</td>\n",
       "    </tr>\n",
       "    <tr>\n",
       "      <th>3</th>\n",
       "      <td>{DFA3C5DA-F650-4CDE-99ED-6A947933418B}</td>\n",
       "      <td>402.2</td>\n",
       "      <td>600</td>\n",
       "      <td>CHESTNUT ST</td>\n",
       "      <td>Mo</td>\n",
       "      <td>3</td>\n",
       "      <td>No Stopping</td>\n",
       "      <td>None</td>\n",
       "      <td>None</td>\n",
       "      <td>No</td>\n",
       "      <td>Yes</td>\n",
       "      <td>Valid</td>\n",
       "      <td>None</td>\n",
       "      <td>No</td>\n",
       "      <td>No</td>\n",
       "    </tr>\n",
       "    <tr>\n",
       "      <th>4</th>\n",
       "      <td>{DFA3C5DA-F650-4CDE-99ED-6A947933418B}</td>\n",
       "      <td>402.2</td>\n",
       "      <td>600</td>\n",
       "      <td>CHESTNUT ST</td>\n",
       "      <td>Mo</td>\n",
       "      <td>4</td>\n",
       "      <td>No Stopping</td>\n",
       "      <td>None</td>\n",
       "      <td>None</td>\n",
       "      <td>No</td>\n",
       "      <td>Yes</td>\n",
       "      <td>Valid</td>\n",
       "      <td>None</td>\n",
       "      <td>No</td>\n",
       "      <td>No</td>\n",
       "    </tr>\n",
       "  </tbody>\n",
       "</table>\n",
       "</div>"
      ],
      "text/plain": [
       "                                       id  length block       street day  \\\n",
       "0  {DFA3C5DA-F650-4CDE-99ED-6A947933418B}   402.2   600  CHESTNUT ST  Mo   \n",
       "1  {DFA3C5DA-F650-4CDE-99ED-6A947933418B}   402.2   600  CHESTNUT ST  Mo   \n",
       "2  {DFA3C5DA-F650-4CDE-99ED-6A947933418B}   402.2   600  CHESTNUT ST  Mo   \n",
       "3  {DFA3C5DA-F650-4CDE-99ED-6A947933418B}   402.2   600  CHESTNUT ST  Mo   \n",
       "4  {DFA3C5DA-F650-4CDE-99ED-6A947933418B}   402.2   600  CHESTNUT ST  Mo   \n",
       "\n",
       "   hour       reg_is reg_is_not time_limit paid tow_zone contractor_placard  \\\n",
       "0     0  No Stopping       None       None   No      Yes              Valid   \n",
       "1     1  No Stopping       None       None   No      Yes              Valid   \n",
       "2     2  No Stopping       None       None   No      Yes              Valid   \n",
       "3     3  No Stopping       None       None   No      Yes              Valid   \n",
       "4     4  No Stopping       None       None   No      Yes              Valid   \n",
       "\n",
       "  permit_zone snow_emergency_zone check  \n",
       "0        None                  No    No  \n",
       "1        None                  No    No  \n",
       "2        None                  No    No  \n",
       "3        None                  No    No  \n",
       "4        None                  No    No  "
      ]
     },
     "execution_count": 14,
     "metadata": {},
     "output_type": "execute_result"
    }
   ],
   "source": [
    "res.head()"
   ]
  },
  {
   "cell_type": "code",
   "execution_count": null,
   "metadata": {},
   "outputs": [],
   "source": []
  }
 ],
 "metadata": {
  "kernelspec": {
   "display_name": "Python 3",
   "language": "python",
   "name": "python3"
  },
  "language_info": {
   "codemirror_mode": {
    "name": "ipython",
    "version": 3
   },
   "file_extension": ".py",
   "mimetype": "text/x-python",
   "name": "python",
   "nbconvert_exporter": "python",
   "pygments_lexer": "ipython3",
   "version": "3.6.7"
  }
 },
 "nbformat": 4,
 "nbformat_minor": 2
}
