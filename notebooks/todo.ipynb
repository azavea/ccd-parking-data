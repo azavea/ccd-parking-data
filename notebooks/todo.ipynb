{
 "cells": [
  {
   "cell_type": "markdown",
   "metadata": {},
   "source": [
    "# TODO"
   ]
  },
  {
   "cell_type": "markdown",
   "metadata": {},
   "source": [
    "    [X] autoreload\n",
    "    [X] port over to scripts\n",
    "    [X] move notes to Data README"
   ]
  },
  {
   "cell_type": "markdown",
   "metadata": {},
   "source": [
    "    [ ] incorporate `notes`\n",
    "    [ ] incorporate `RegCats`\n",
    "    [ ] export all images as .pngs (one-off script)\n",
    "    [ ] revisit 'Permit Zone' field\n",
    "    [X] figure out what to do about placard\n",
    "    [X] why are regs showing up multiple times \n",
    "    [X] incorporate the `time_limit` field\n",
    "    [X] reorganize columns"
   ]
  },
  {
   "cell_type": "markdown",
   "metadata": {},
   "source": [
    "    [ ] unit tests"
   ]
  }
 ],
 "metadata": {
  "kernelspec": {
   "display_name": "Python 3",
   "language": "python",
   "name": "python3"
  },
  "language_info": {
   "codemirror_mode": {
    "name": "ipython",
    "version": 3
   },
   "file_extension": ".py",
   "mimetype": "text/x-python",
   "name": "python",
   "nbconvert_exporter": "python",
   "pygments_lexer": "ipython3",
   "version": "3.6.7"
  }
 },
 "nbformat": 4,
 "nbformat_minor": 2
}
