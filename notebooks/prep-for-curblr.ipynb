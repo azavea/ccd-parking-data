{
 "cells": [
  {
   "cell_type": "code",
   "execution_count": null,
   "metadata": {},
   "outputs": [],
   "source": [
    "%load_ext autoreload\n",
    "%autoreload 2"
   ]
  },
  {
   "cell_type": "code",
   "execution_count": null,
   "metadata": {},
   "outputs": [],
   "source": [
    "import sys\n",
    "sys.path.append('..')"
   ]
  },
  {
   "cell_type": "code",
   "execution_count": null,
   "metadata": {},
   "outputs": [],
   "source": [
    "import os\n",
    "\n",
    "import click\n",
    "import pandas as pd\n",
    "from tqdm import tqdm\n",
    "import numpy as np\n",
    "import json\n",
    "\n",
    "from ccd.parking_zone_evaluator import ParkingZoneEvaluator\n",
    "from ccd.utils import read_layers_from_gdb\n",
    "from ccd.constants import COLUMNS\n",
    "from ccd.rule import Rule\n",
    "from ccd.constants import REGULATIONS\n",
    "\n",
    "from curblr import Regulation\n",
    "from curblr.rule import Rule as CLRRule"
   ]
  },
  {
   "cell_type": "code",
   "execution_count": null,
   "metadata": {},
   "outputs": [],
   "source": [
    "geodatabase = '../data/raw/ParkingZones.gdb/'\n",
    "layers = read_layers_from_gdb(geodatabase)"
   ]
  },
  {
   "cell_type": "code",
   "execution_count": null,
   "metadata": {},
   "outputs": [],
   "source": [
    "pz = layers['Parking_Zones']\n",
    "pzr = layers['Parking_Zone_Regulations']\n",
    "pza = layers['Parking_Zones__ATTACH']\n",
    "\n",
    "pze = ParkingZoneEvaluator(pz, pzr, pza)"
   ]
  },
  {
   "cell_type": "code",
   "execution_count": null,
   "metadata": {},
   "outputs": [],
   "source": [
    "all_dfs = []\n",
    "all_ids = pz['GlobalID'].values\n",
    "fname = 'output-all.csv'"
   ]
  },
  {
   "cell_type": "code",
   "execution_count": null,
   "metadata": {},
   "outputs": [],
   "source": [
    "all_ids = all_ids[0:50]\n",
    "fname = fname.replace('all', 'test')"
   ]
  },
  {
   "cell_type": "markdown",
   "metadata": {},
   "source": [
    "#### PT 1"
   ]
  },
  {
   "cell_type": "code",
   "execution_count": null,
   "metadata": {},
   "outputs": [],
   "source": [
    "cats = {'parking':[], 'no parking': [], 'standing': [], 'no standing': [], 'loading': [], 'no loading': []}\n",
    "unclassified = []\n",
    "\n",
    "regs = []\n",
    "id_to_reg = {}\n",
    "for _, r in pzr.iterrows():\n",
    "    reg = r['Regulation'].lower().strip()\n",
    "    if reg == 'other (see notes)':\n",
    "        note = r['Notes']\n",
    "        if note:\n",
    "            regs.append(note)\n",
    "        else:\n",
    "            regs.append('no regulations listed')\n",
    "    else:\n",
    "        regs.append(reg)\n",
    "regs = list(set(regs))\n",
    "\n",
    "for reg in regs:\n",
    "    rc = None\n",
    "    if reg:\n",
    "        rc = reg.lower()\n",
    "    \n",
    "    if 'loading' in rc and not 'no loading' in rc:\n",
    "        cats['loading'].append(reg)\n",
    "        continue\n",
    "        \n",
    "    if 'no loading' in rc:\n",
    "        cats['no loading'].append(reg)\n",
    "        continue\n",
    "        \n",
    "    if rc == 'stopping' or rc == 'standing':\n",
    "        cats['standing'].append(reg)\n",
    "        continue\n",
    "    \n",
    "    if rc == 'no stopping (except bicycles)':\n",
    "        cats['standing'].append(reg)\n",
    "        continue\n",
    "    \n",
    "    if 'no stopping' in rc or 'no standing' in rc:\n",
    "        cats['no standing'].append(reg)\n",
    "        continue\n",
    "        \n",
    "    if 'no parking' in rc or 'parking prohibited' in rc:\n",
    "        cats['no parking'].append(reg)\n",
    "        continue\n",
    "    \n",
    "    if rc == 'bicycles only':\n",
    "        cats['parking'].append(reg)\n",
    "        continue\n",
    "    \n",
    "    if 'only' in rc:\n",
    "        cats['parking'].append(reg)\n",
    "        continue\n",
    "    \n",
    "    if rc in ['bus zone', 'indego bike zone', 'fire zone', 'snow emergency zone', 'ambulance zone']:\n",
    "        cats['no parking'].append(reg)\n",
    "        continue\n",
    "    \n",
    "    if 'not valid' in rc:\n",
    "        cats['no parking'].append(reg)\n",
    "        continue\n",
    "        \n",
    "    if 'drop off' in rc or 'pickup' in rc:\n",
    "        cats['standing'].append(reg)\n",
    "        continue\n",
    "    \n",
    "    if 'prohibited' in rc:\n",
    "        cats['no parking'].append(reg)\n",
    "        continue\n",
    "        \n",
    "    if rc == 'no regulations listed':\n",
    "        cats['parking'].append(reg)\n",
    "        continue\n",
    "    \n",
    "    if rc in ('no bus parking', 'no truck parking'):\n",
    "        cats['no parking'].append(reg)\n",
    "        continue\n",
    "    \n",
    "    if 'parking' in rc:\n",
    "        cats['parking'].append(reg)\n",
    "        continue\n",
    "    \n",
    "    if rc == 'no truck idling':\n",
    "        cats['no standing'].append(reg)\n",
    "        continue\n",
    "    \n",
    "    unclassified.append(reg)"
   ]
  },
  {
   "cell_type": "code",
   "execution_count": null,
   "metadata": {},
   "outputs": [],
   "source": [
    "d = {}\n",
    "for activity, rules in cats.items():\n",
    "    for rule in rules:\n",
    "        d[rule] = {'activity': activity}\n",
    "        rc = rule.lower()\n",
    "        if rc == activity:\n",
    "            d[rule]['reason'] = None\n",
    "        else:\n",
    "            d[rule]['reason'] = rc"
   ]
  },
  {
   "cell_type": "code",
   "execution_count": null,
   "metadata": {},
   "outputs": [],
   "source": [
    "classes = pd.read_csv('../data/interim/regulation_to_userclass.csv')"
   ]
  },
  {
   "cell_type": "code",
   "execution_count": null,
   "metadata": {
    "scrolled": true
   },
   "outputs": [],
   "source": [
    "for _, r in classes.iterrows():\n",
    "    reg = r['reg_c']\n",
    "    c = r['class']\n",
    "    if not isinstance(c, str):\n",
    "        if np.isnan(c):\n",
    "            c = None\n",
    "    d[reg]['classes'] = [c]"
   ]
  },
  {
   "cell_type": "code",
   "execution_count": null,
   "metadata": {},
   "outputs": [],
   "source": [
    "with open('../data/interim/reg_lookup.json', 'w') as f:\n",
    "    json.dump(d, f)"
   ]
  },
  {
   "cell_type": "markdown",
   "metadata": {},
   "source": [
    "#### PT 2"
   ]
  },
  {
   "cell_type": "code",
   "execution_count": null,
   "metadata": {},
   "outputs": [],
   "source": [
    "from curblr.timespan import DaysOfWeek"
   ]
  },
  {
   "cell_type": "code",
   "execution_count": null,
   "metadata": {},
   "outputs": [],
   "source": [
    "with open('../data/interim/reg_lookup.json') as f:\n",
    "    d = json.load(f)"
   ]
  },
  {
   "cell_type": "code",
   "execution_count": null,
   "metadata": {},
   "outputs": [],
   "source": [
    "r = Rule(pzr.iloc[2])"
   ]
  },
  {
   "cell_type": "code",
   "execution_count": null,
   "metadata": {},
   "outputs": [],
   "source": [
    "r.ptr_secondary[0].all_time"
   ]
  },
  {
   "cell_type": "code",
   "execution_count": null,
   "metadata": {},
   "outputs": [],
   "source": [
    "days_of_week = DaysOfWeek(r.ptr_primary[0].days)"
   ]
  },
  {
   "cell_type": "code",
   "execution_count": null,
   "metadata": {},
   "outputs": [],
   "source": []
  }
 ],
 "metadata": {
  "kernelspec": {
   "display_name": "Python 3",
   "language": "python",
   "name": "python3"
  },
  "language_info": {
   "codemirror_mode": {
    "name": "ipython",
    "version": 3
   },
   "file_extension": ".py",
   "mimetype": "text/x-python",
   "name": "python",
   "nbconvert_exporter": "python",
   "pygments_lexer": "ipython3",
   "version": "3.6.8"
  }
 },
 "nbformat": 4,
 "nbformat_minor": 4
}
