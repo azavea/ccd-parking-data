{
 "cells": [
  {
   "cell_type": "code",
   "execution_count": 1,
   "metadata": {},
   "outputs": [],
   "source": [
    "%load_ext autoreload\n",
    "%autoreload 2\n",
    "\n",
    "%matplotlib inline"
   ]
  },
  {
   "cell_type": "code",
   "execution_count": 2,
   "metadata": {},
   "outputs": [],
   "source": [
    "import sys\n",
    "sys.path.append('../../PyCurb/')\n",
    "sys.path.append('..')"
   ]
  },
  {
   "cell_type": "code",
   "execution_count": 5,
   "metadata": {},
   "outputs": [],
   "source": [
    "import os\n",
    "import json\n",
    "from os.path import join\n",
    "import numpy as np\n",
    "import pandas as pd\n",
    "import geopandas as gpd\n",
    "from datetime import datetime\n",
    "\n",
    "from ccd.utils import read_layers_from_gdb, day_range\n",
    "from ccd.rule import rule_parking_time\n",
    "from ccd.parking_time_range import ParkingTimeRange\n",
    "\n",
    "from curblr import (CurbLRObject, Regulation, Location, Feature, FeatureCollection, \n",
    "                    TimeSpan, Rule, UserClass, Payment, Manifest, Authority)\n",
    "from curblr.utils import parse_time, to_camelcase, from_camelcase\n",
    "from curblr.time_rule import DaysOfWeek, TimeOfDay, DesignatedPeriod"
   ]
  },
  {
   "cell_type": "code",
   "execution_count": 6,
   "metadata": {},
   "outputs": [],
   "source": [
    "def row_to_ptrs(r):\n",
    "    ranges = []\n",
    "    for i in range(1,3):\n",
    "        dr = day_range(r['Day_From_{}'.format(i)], r['Day_To_{}'.format(i)])\n",
    "        ptr = ParkingTimeRange(rule_parking_time(r['Time_From_{}'.format(i)]), rule_parking_time(r['Time_To_{}'.format(i)]))\n",
    "        if not dr and ptr.all_time:\n",
    "            ranges.append(None)\n",
    "        else:\n",
    "            ranges.append((dr, ptr))\n",
    "    \n",
    "    return tuple(ranges)"
   ]
  },
  {
   "cell_type": "code",
   "execution_count": 7,
   "metadata": {},
   "outputs": [],
   "source": [
    "geodatabase = '../data/raw/ParkingZones.gdb/'\n",
    "layers = read_layers_from_gdb(geodatabase)\n",
    "pz = layers['Parking_Zones'].to_crs({'init':'epsg:4326'})\n",
    "pzr = layers['Parking_Zone_Regulations']"
   ]
  },
  {
   "cell_type": "code",
   "execution_count": 8,
   "metadata": {
    "scrolled": true
   },
   "outputs": [],
   "source": [
    "with open('../data/interim/parking_data/output_30_side-of-street_hierarchy-8_best-direction.matched.geojson') as f:\n",
    "    lrm = json.load(f)\n",
    "lrms = {f['properties']['pp_globalid']: f for f in lrm['features']}"
   ]
  },
  {
   "cell_type": "code",
   "execution_count": 9,
   "metadata": {},
   "outputs": [],
   "source": [
    "with open('../data/interim/reg_lookup.json') as f:\n",
    "    d = json.load(f)"
   ]
  },
  {
   "cell_type": "code",
   "execution_count": 13,
   "metadata": {
    "scrolled": true
   },
   "outputs": [
    {
     "name": "stdout",
     "output_type": "stream",
     "text": [
      "Completed [500] of 3349\n",
      "Completed [1000] of 3349\n",
      "Completed [1500] of 3349\n",
      "Completed [2000] of 3349\n",
      "Completed [2500] of 3349\n",
      "Completed [3000] of 3349\n",
      "Completed [3349] of 3349\n"
     ]
    }
   ],
   "source": [
    "phila = Authority('ppa', 'http://www.philapark.org/', '1-888-591-3636')\n",
    "manifest = Manifest(time_zone='EET', currency='USD', authority=phila)\n",
    "fc = FeatureCollection(manifest=manifest)\n",
    "\n",
    "for i, seg in pz.iterrows():\n",
    "    gid = seg['GlobalID']\n",
    "    iid = gid.replace('{', '').replace('}', '')\n",
    "    \n",
    "    images = [join('img', i) for i in os.listdir('../img/') if iid in i]\n",
    "    \n",
    "    # initialize the feature\n",
    "    lrm = lrms.get(gid)\n",
    "    if lrm:\n",
    "        lrm['properties']['marker'] = 'sign'\n",
    "    loc = Location.from_lr_feature(lrm, \n",
    "                                   object_id='pp_globalid', \n",
    "                                   street_name='pp_street')\n",
    "    feature = Feature(seg['geometry'], loc, images=images)\n",
    "    \n",
    "    # get all regulations for this segment\n",
    "    regs_gdf = pzr[pzr['GUID'] == gid]\n",
    "    \n",
    "    # payment\n",
    "    m = seg['Metering']\n",
    "    payment = Payment(methods = [m.lower().strip()]) if m not in (None, 'No Meters') else None\n",
    "    \n",
    "    # regulations\n",
    "    if len(regs_gdf) == 0:\n",
    "        reg_obj = Regulation(Rule('parking', 'no regulations listed'))\n",
    "        feature.add_regulation(reg_obj)\n",
    "    else:\n",
    "        for _, r in regs_gdf.iterrows():\n",
    "            reg_c = r['Regulation'].lower().strip()\n",
    "            if reg_c == 'other (see notes)':\n",
    "                reg_c = r['Notes']\n",
    "                if reg_c:\n",
    "                    reg_c = reg_c.lower().strip()\n",
    "                else:\n",
    "                    reg_c = 'no regulations listed'\n",
    "\n",
    "            # get mapping of reg string to other characteristics\n",
    "            s = d.get(reg_c)\n",
    "\n",
    "            # priority\n",
    "            priority = s.get('priority', 4)\n",
    "\n",
    "            # rule\n",
    "            max_stay = r['Time_Limit'] * 60 if not np.isnan(r['Time_Limit']) else None\n",
    "            clr_rule = Rule(s['activity'], s['reason'], max_stay=max_stay)\n",
    "\n",
    "            clr_userclasses = None\n",
    "            classes = [c for c in s.get('classes') if c]\n",
    "\n",
    "            if len(classes) > 0:\n",
    "                clr_userclasses = [UserClass(classes)]\n",
    "        \n",
    "            # timespans\n",
    "            timespans = []\n",
    "            for p in row_to_ptrs(r):\n",
    "                if p:\n",
    "                    dr, ptr = p\n",
    "                    if dr:\n",
    "                        if len(dr) < 7:\n",
    "                            days_of_week = DaysOfWeek(dr)\n",
    "                        else:\n",
    "                            days_of_week = None\n",
    "                    else: \n",
    "                        days_of_week = None\n",
    "\n",
    "                    if ptr.all_time or ptr.invalid:\n",
    "                        time_of_day = None\n",
    "                    else:\n",
    "                        time_of_day = TimeOfDay(ptr.start.hour, ptr.end.hour)\n",
    "\n",
    "                    # designated period\n",
    "                    designated_period = None\n",
    "                    dp = s.get(designated_period)\n",
    "                    if dp:\n",
    "                        designated_period = DesignatedPeriod(**dp)\n",
    "                    elif r['Time_From_1'] == 9910:\n",
    "                        designated_period = DesignatedPeriod('school hours', 'only during')\n",
    "                    designated_period = []\n",
    "                    \n",
    "                    ts = TimeSpan(days_of_week=days_of_week, \n",
    "                                  times_of_day=[time_of_day] if time_of_day else time_of_day, \n",
    "                                  designated_periods=[designated_period] if designated_period else designated_period)\n",
    "\n",
    "                    new_ts = True\n",
    "                    for t in timespans:\n",
    "                        if not ts.days_of_week:\n",
    "                            if not t.days_of_week:\n",
    "                                continue\n",
    "                        elif t.days_of_week: \n",
    "                            if sorted(ts.days_of_week.days) != sorted(t.days_of_week.days):\n",
    "                                continue\n",
    "\n",
    "                        for tod in ts.times_of_day:\n",
    "                            t.add_time_of_day(tod)\n",
    "                        new_ts = False\n",
    "\n",
    "                    if new_ts:\n",
    "                        timespans.append(ts)\n",
    "\n",
    "            # generate regulation\n",
    "            reg_obj = Regulation(clr_rule, \n",
    "                                 clr_userclasses, \n",
    "                                 timespans, \n",
    "                                 payment=payment,\n",
    "                                 priority=priority)\n",
    "\n",
    "            feature.add_regulation(reg_obj)\n",
    "    \n",
    "    fc.add_feature(feature)\n",
    "    \n",
    "    if (i + 1) % 500 == 0:\n",
    "        print('Completed [{}] of {}'.format(i+1, len(pz)))\n",
    "print('Completed [{}] of {}'.format(i+1, len(pz)))"
   ]
  },
  {
   "cell_type": "code",
   "execution_count": 14,
   "metadata": {
    "scrolled": true
   },
   "outputs": [],
   "source": [
    "fc.save('../data/interim/ccd_curblr.json', add_timestamp=True)"
   ]
  },
  {
   "cell_type": "code",
   "execution_count": 15,
   "metadata": {},
   "outputs": [
    {
     "data": {
      "text/plain": [
       "{'type': 'Feature',\n",
       " 'properties': {'shstReferenceId': '165d66a82288eb51c256489f72f63c67',\n",
       "  'shstGeometryId': 'bf26c0f927c74e5d633386632d60f8cd',\n",
       "  'shstFromIntersectionId': '99962b850f699e0e6b77ea1073424a63',\n",
       "  'shstToIntersectionId': '980fad0f60037bb54cf98b8c72641ee7',\n",
       "  'referenceLength': 55.6,\n",
       "  'section': [0, 17.328605466924394],\n",
       "  'gisReferenceId': 'cb1b89431c7d3c068e6c9ca1bdf75653',\n",
       "  'gisGeometryId': 'a7674675a2414f7a7e046d4a95479134',\n",
       "  'gisTotalSegments': 2,\n",
       "  'gisSegmentIndex': 2,\n",
       "  'gisFromIntersectionId': 'e833396ea69a408ed51ff5059a0a50d3',\n",
       "  'gisToIntersectionId': 'f240d9c8999b134c734518f380e0d169',\n",
       "  'startSideOfStreet': 'left',\n",
       "  'endSideOfStreet': 'left',\n",
       "  'sideOfStreet': 'left',\n",
       "  'score': 6.31,\n",
       "  'matchType': 'hmm',\n",
       "  'pp_globalid': '{29428B3E-3905-401D-BE9E-838559563A11}',\n",
       "  'pp_metering': 'No Meters',\n",
       "  'pp_permitzone1': None,\n",
       "  'pp_permitzone2': None,\n",
       "  'pp_permitexception': 'No',\n",
       "  'pp_towzone': 'No',\n",
       "  'pp_street': 'S INDEPENDENCE MALL E',\n",
       "  'pp_block': '100',\n",
       "  'pp_created_by': 'FieldEditor2',\n",
       "  'pp_created_on': '2019-03-11T12:53:02',\n",
       "  'pp_edited_by': 'DYAW',\n",
       "  'pp_edited_on': '2019-03-14T08:56:34',\n",
       "  'pp_length': 72.3,\n",
       "  'pp_globalid_copy': None,\n",
       "  'pp_length2': 72.3,\n",
       "  'pp_block_category': None,\n",
       "  'pp_shape_length': 72.27571212439568,\n",
       "  'marker': 'sign',\n",
       "  'shstRefId': '165d66a82288eb51c256489f72f63c67',\n",
       "  'shstLocationStart': 0,\n",
       "  'shstLocationEnd': 17.328605466924394,\n",
       "  'objectId': '{29428B3E-3905-401D-BE9E-838559563A11}',\n",
       "  'streetName': 'S INDEPENDENCE MALL E'},\n",
       " 'geometry': {'type': 'LineString',\n",
       "  'coordinates': [[-75.14920260000001, 39.9491328],\n",
       "   [-75.14919330709724, 39.9492884767574]]}}"
      ]
     },
     "execution_count": 15,
     "metadata": {},
     "output_type": "execute_result"
    }
   ],
   "source": [
    "lrm"
   ]
  },
  {
   "cell_type": "code",
   "execution_count": null,
   "metadata": {},
   "outputs": [],
   "source": []
  }
 ],
 "metadata": {
  "kernelspec": {
   "display_name": "Python 3",
   "language": "python",
   "name": "python3"
  },
  "language_info": {
   "codemirror_mode": {
    "name": "ipython",
    "version": 3
   },
   "file_extension": ".py",
   "mimetype": "text/x-python",
   "name": "python",
   "nbconvert_exporter": "python",
   "pygments_lexer": "ipython3",
   "version": "3.6.8"
  }
 },
 "nbformat": 4,
 "nbformat_minor": 4
}
